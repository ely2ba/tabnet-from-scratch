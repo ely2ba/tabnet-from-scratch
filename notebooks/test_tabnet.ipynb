{
 "cells": [
  {
   "cell_type": "code",
   "execution_count": 2,
   "metadata": {},
   "outputs": [
    {
     "name": "stdout",
     "output_type": "stream",
     "text": [
      "Logits shape: torch.Size([8, 2])\n",
      "Aggregated mask shape: torch.Size([8, 16])\n"
     ]
    }
   ],
   "source": [
    "import sys, os\n",
    "\n",
    "project_root = os.path.abspath(os.path.join(os.getcwd(), \"..\"))\n",
    "if project_root not in sys.path:\n",
    "    sys.path.insert(0, project_root)\n",
    "\n",
    "import torch\n",
    "from src.tabnet import TabNet\n",
    "\n",
    "batch_size = 8\n",
    "input_dim = 16\n",
    "n_d = 16\n",
    "n_steps = 3\n",
    "n_classes = 2\n",
    "\n",
    "x = torch.randn(batch_size, input_dim)\n",
    "\n",
    "model = TabNet(input_dim=input_dim, n_d=n_d, n_steps=n_steps, output_dim=n_classes)\n",
    "logits, aggregated_mask = model(x)\n",
    "\n",
    "print(\"Logits shape:\", logits.shape)\n",
    "print(\"Aggregated mask shape:\", aggregated_mask.shape)\n",
    "\n"
   ]
  }
 ],
 "metadata": {
  "kernelspec": {
   "display_name": "Python 3",
   "language": "python",
   "name": "python3"
  },
  "language_info": {
   "codemirror_mode": {
    "name": "ipython",
    "version": 3
   },
   "file_extension": ".py",
   "mimetype": "text/x-python",
   "name": "python",
   "nbconvert_exporter": "python",
   "pygments_lexer": "ipython3",
   "version": "3.9.6"
  }
 },
 "nbformat": 4,
 "nbformat_minor": 2
}
