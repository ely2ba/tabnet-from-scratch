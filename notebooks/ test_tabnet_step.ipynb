{
 "cells": [
  {
   "cell_type": "code",
   "execution_count": 1,
   "metadata": {},
   "outputs": [
    {
     "name": "stdout",
     "output_type": "stream",
     "text": [
      "Decision output shape: torch.Size([8, 16])\n",
      "Next feature shape: torch.Size([8, 16])\n",
      "Updated prior shape: torch.Size([8, 16])\n",
      "Mask shape: torch.Size([8, 16])\n",
      "Sum across mask rows (should be ~1): tensor([1.0000, 1.0000, 1.0000, 1.0000, 1.0000, 1.0000, 1.0000, 1.0000],\n",
      "       grad_fn=<SumBackward1>)\n",
      "Example mask row: tensor([0.0000, 0.1745, 0.0660, 0.0463, 0.0121, 0.3839, 0.0000, 0.0000, 0.0000,\n",
      "        0.0000, 0.0863, 0.1289, 0.0000, 0.0000, 0.1020, 0.0000],\n",
      "       grad_fn=<SelectBackward0>)\n"
     ]
    }
   ],
   "source": [
    "import sys, os\n",
    "\n",
    "project_root = os.path.abspath(os.path.join(os.getcwd(), \"..\"))\n",
    "if project_root not in sys.path:\n",
    "    sys.path.insert(0, project_root)\n",
    "\n",
    "\n",
    "import torch\n",
    "from src.tabnet_step import TabNetStep\n",
    "\n",
    "# Dummy input\n",
    "batch_size = 8\n",
    "input_dim = 16\n",
    "n_d = 16\n",
    "output_dim = 16\n",
    "\n",
    "x = torch.randn(batch_size, input_dim)\n",
    "prior = torch.ones(batch_size, input_dim)\n",
    "\n",
    "# Initialize step\n",
    "tabnet_step = TabNetStep(\n",
    "    input_dim=input_dim,\n",
    "    n_d=n_d,\n",
    "    output_dim=output_dim,\n",
    "    shared_transformer=None  # or pass shared layers if you want\n",
    ")\n",
    "\n",
    "# Forward pass\n",
    "decision_out, next_feat, updated_prior, mask = tabnet_step(x, prior)\n",
    "\n",
    "# Inspect outputs\n",
    "print(\"Decision output shape:\", decision_out.shape)\n",
    "print(\"Next feature shape:\", next_feat.shape)\n",
    "print(\"Updated prior shape:\", updated_prior.shape)\n",
    "print(\"Mask shape:\", mask.shape)\n",
    "\n",
    "# Quick checks\n",
    "print(\"Sum across mask rows (should be ~1):\", mask.sum(dim=1))\n",
    "print(\"Example mask row:\", mask[0])\n",
    "\n"
   ]
  }
 ],
 "metadata": {
  "kernelspec": {
   "display_name": "Python 3",
   "language": "python",
   "name": "python3"
  },
  "language_info": {
   "codemirror_mode": {
    "name": "ipython",
    "version": 3
   },
   "file_extension": ".py",
   "mimetype": "text/x-python",
   "name": "python",
   "nbconvert_exporter": "python",
   "pygments_lexer": "ipython3",
   "version": "3.9.6"
  }
 },
 "nbformat": 4,
 "nbformat_minor": 2
}
