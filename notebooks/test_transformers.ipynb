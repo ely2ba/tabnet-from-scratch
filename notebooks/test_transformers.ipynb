{
 "cells": [
  {
   "cell_type": "code",
   "execution_count": 1,
   "metadata": {},
   "outputs": [],
   "source": [
    "import sys\n",
    "import os\n",
    "\n",
    "project_root = os.path.abspath(os.path.join(os.getcwd(), \"..\"))  # adjust if needed\n",
    "if project_root not in sys.path:\n",
    "    sys.path.insert(0, project_root)\n"
   ]
  },
  {
   "cell_type": "code",
   "execution_count": 2,
   "metadata": {},
   "outputs": [
    {
     "name": "stdout",
     "output_type": "stream",
     "text": [
      "Step 0 output shape: torch.Size([8, 16])\n",
      "Step 1 output shape: torch.Size([8, 16])\n",
      "Step 2 output shape: torch.Size([8, 16])\n"
     ]
    }
   ],
   "source": [
    "import torch\n",
    "from src.feature_transformer import FeatureTransformer\n",
    "\n",
    "# Dummy input\n",
    "batch_size = 8\n",
    "input_dim = 16\n",
    "n_d = 16\n",
    "n_steps = 3\n",
    "\n",
    "x = torch.randn(batch_size, input_dim)\n",
    "\n",
    "# Initialize transformer\n",
    "ft = FeatureTransformer(input_dim=input_dim, n_d=n_d, n_steps=n_steps)\n",
    "\n",
    "# Forward pass through each step\n",
    "for step in range(n_steps):\n",
    "    out = ft(x, step_idx=step)\n",
    "    print(f\"Step {step} output shape:\", out.shape)\n"
   ]
  },
  {
   "cell_type": "code",
   "execution_count": 3,
   "metadata": {},
   "outputs": [
    {
     "name": "stdout",
     "output_type": "stream",
     "text": [
      "GLU output shape: torch.Size([8, 16])\n"
     ]
    }
   ],
   "source": [
    "from src.glu import GatedLinearUnit\n",
    "import torch\n",
    "\n",
    "# Dummy input\n",
    "x = torch.randn(8, 16)\n",
    "\n",
    "# Initialize GLU block\n",
    "glu = GatedLinearUnit(input_dim=16, output_dim=16)\n",
    "\n",
    "# Forward pass\n",
    "out = glu(x)\n",
    "print(\"GLU output shape:\", out.shape)\n",
    "\n"
   ]
  },
  {
   "cell_type": "code",
   "execution_count": 4,
   "metadata": {},
   "outputs": [
    {
     "name": "stdout",
     "output_type": "stream",
     "text": [
      "Attention mask shape: torch.Size([8, 16])\n",
      "Sum across features (should be close to 1): tensor([1.0000, 1.0000, 1.0000, 1.0000, 1.0000, 1.0000, 1.0000, 1.0000],\n",
      "       grad_fn=<SumBackward1>)\n",
      "Some example rows:\n",
      " tensor([[0.0000, 0.0000, 0.0760, 0.1058, 0.1270, 0.3628, 0.0000, 0.0000, 0.0000,\n",
      "         0.0000, 0.0000, 0.0000, 0.1546, 0.0000, 0.0000, 0.1738],\n",
      "        [0.0000, 0.0000, 0.0400, 0.2520, 0.0000, 0.0368, 0.0000, 0.0000, 0.0110,\n",
      "         0.0000, 0.0000, 0.0000, 0.0793, 0.0000, 0.2426, 0.3383],\n",
      "        [0.0181, 0.0098, 0.0434, 0.2471, 0.0000, 0.0044, 0.0311, 0.0000, 0.0000,\n",
      "         0.0000, 0.0000, 0.0600, 0.2371, 0.0000, 0.1259, 0.2231]],\n",
      "       grad_fn=<SliceBackward0>)\n"
     ]
    }
   ],
   "source": [
    "import torch\n",
    "from src.attentive_transformer import AttentiveTransformer\n",
    "\n",
    "# Dummy input\n",
    "batch_size = 8\n",
    "input_dim = 16\n",
    "\n",
    "x = torch.randn(batch_size, input_dim)\n",
    "prior = torch.ones(batch_size, input_dim)  # start with uniform prior\n",
    "\n",
    "attn = AttentiveTransformer(input_dim=input_dim, output_dim=input_dim)\n",
    "mask = attn(x, prior)\n",
    "\n",
    "print(\"Attention mask shape:\", mask.shape)\n",
    "print(\"Sum across features (should be close to 1):\", mask.sum(dim=1))\n",
    "print(\"Some example rows:\\n\", mask[:3])\n"
   ]
  }
 ],
 "metadata": {
  "kernelspec": {
   "display_name": "Python 3",
   "language": "python",
   "name": "python3"
  },
  "language_info": {
   "codemirror_mode": {
    "name": "ipython",
    "version": 3
   },
   "file_extension": ".py",
   "mimetype": "text/x-python",
   "name": "python",
   "nbconvert_exporter": "python",
   "pygments_lexer": "ipython3",
   "version": "3.9.6"
  }
 },
 "nbformat": 4,
 "nbformat_minor": 2
}
